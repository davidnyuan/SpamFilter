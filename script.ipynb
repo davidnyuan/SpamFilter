{
 "cells": [
  {
   "cell_type": "code",
   "execution_count": 1,
   "metadata": {
    "collapsed": true
   },
   "outputs": [],
   "source": [
    "import numpy as np\n",
    "import pandas as pd\n",
    "from nltk.tokenize import RegexpTokenizer\n",
    "from nltk.corpus import stopwords"
   ]
  },
  {
   "cell_type": "code",
   "execution_count": 2,
   "metadata": {
    "collapsed": true
   },
   "outputs": [],
   "source": [
    "# import data. Shapes like tilde will crash  ctf-8 so we use latin1\n",
    "spamDf = pd.read_csv('./Data/spam.csv', encoding='latin1')"
   ]
  },
  {
   "cell_type": "code",
   "execution_count": 3,
   "metadata": {},
   "outputs": [
    {
     "data": {
      "text/html": [
       "<div>\n",
       "<style>\n",
       "    .dataframe thead tr:only-child th {\n",
       "        text-align: right;\n",
       "    }\n",
       "\n",
       "    .dataframe thead th {\n",
       "        text-align: left;\n",
       "    }\n",
       "\n",
       "    .dataframe tbody tr th {\n",
       "        vertical-align: top;\n",
       "    }\n",
       "</style>\n",
       "<table border=\"1\" class=\"dataframe\">\n",
       "  <thead>\n",
       "    <tr style=\"text-align: right;\">\n",
       "      <th></th>\n",
       "      <th>text</th>\n",
       "      <th>label</th>\n",
       "    </tr>\n",
       "  </thead>\n",
       "  <tbody>\n",
       "    <tr>\n",
       "      <th>0</th>\n",
       "      <td>Go until jurong point, crazy.. Available only ...</td>\n",
       "      <td>ham</td>\n",
       "    </tr>\n",
       "    <tr>\n",
       "      <th>1</th>\n",
       "      <td>Ok lar... Joking wif u oni...</td>\n",
       "      <td>ham</td>\n",
       "    </tr>\n",
       "    <tr>\n",
       "      <th>2</th>\n",
       "      <td>Free entry in 2 a wkly comp to win FA Cup fina...</td>\n",
       "      <td>spam</td>\n",
       "    </tr>\n",
       "    <tr>\n",
       "      <th>3</th>\n",
       "      <td>U dun say so early hor... U c already then say...</td>\n",
       "      <td>ham</td>\n",
       "    </tr>\n",
       "    <tr>\n",
       "      <th>4</th>\n",
       "      <td>Nah I don't think he goes to usf, he lives aro...</td>\n",
       "      <td>ham</td>\n",
       "    </tr>\n",
       "  </tbody>\n",
       "</table>\n",
       "</div>"
      ],
      "text/plain": [
       "                                                text label\n",
       "0  Go until jurong point, crazy.. Available only ...   ham\n",
       "1                      Ok lar... Joking wif u oni...   ham\n",
       "2  Free entry in 2 a wkly comp to win FA Cup fina...  spam\n",
       "3  U dun say so early hor... U c already then say...   ham\n",
       "4  Nah I don't think he goes to usf, he lives aro...   ham"
      ]
     },
     "execution_count": 3,
     "metadata": {},
     "output_type": "execute_result"
    }
   ],
   "source": [
    "# drop empty columns\n",
    "spamDf.drop(['Unnamed: 2', 'Unnamed: 3', 'Unnamed: 4'], axis=1, inplace=True)\n",
    "# rename remaining columns\n",
    "spamDf.columns = ['label', 'text']\n",
    "\n",
    "# flip columns so text is first column\n",
    "columnsTitles=[\"text\",\"label\"]\n",
    "spamDf = spamDf.reindex(columns = columnsTitles)\n",
    "spamDf.head()"
   ]
  },
  {
   "cell_type": "code",
   "execution_count": 4,
   "metadata": {
    "collapsed": true
   },
   "outputs": [],
   "source": [
    "import re\n",
    "# Find all instances of nonstandard punctuation. ie space before a comma but not after\n",
    "# match on , . ' ! # / @ % ^ ; \"\n",
    "def freqOfNonstardardPunc(message):\n",
    "    count = 0\n",
    "    regexList = ['\\s,\\S', '\\s\\.\\S', '\\s\\'\\S', '\\s!\\S', '\\s#\\S', '\\s/\\S', '\\s@\\S', '\\s%\\S', '\\s\\^\\S', '\\s;\\S', \n",
    "                 '\\s\\?\\S', '\\s\\\"\\S']\n",
    "    for regex in regexList:\n",
    "        prog = re.compile(regex)\n",
    "        result = prog.findall(message)\n",
    "        count += len(result)\n",
    "    return count"
   ]
  },
  {
   "cell_type": "code",
   "execution_count": 5,
   "metadata": {},
   "outputs": [],
   "source": [
    "# find number of known spam words\n",
    "with open('./Data/blacklist.txt') as f:\n",
    "    content = f.readlines()\n",
    "# you may also want to remove whitespace characters like `\\n` at the end of each line\n",
    "content = [x.strip() for x in content] \n",
    "\n",
    "def spamCount(message):\n",
    "    count = 0\n",
    "    for word in content:\n",
    "        count += message.count(word)\n",
    "    return count"
   ]
  },
  {
   "cell_type": "code",
   "execution_count": 6,
   "metadata": {
    "collapsed": true
   },
   "outputs": [],
   "source": [
    "# Find ratio of capitalized to lowercase letters\n",
    "def capRatio(message):\n",
    "    upperCase = sum(1 for c in message if c.isupper())\n",
    "    lowerCase = sum(1 for c in message if c.islower())\n",
    "    if lowerCase == 0:\n",
    "        lowerCase = 1\n",
    "    return upperCase / lowerCase"
   ]
  },
  {
   "cell_type": "code",
   "execution_count": 7,
   "metadata": {
    "collapsed": true
   },
   "outputs": [],
   "source": [
    "# set of lemmatized words\n",
    "\n",
    "from nltk.stem.wordnet import WordNetLemmatizer\n",
    "lemm = WordNetLemmatizer()\n",
    "def lemSet(wordList):\n",
    "    wordSet = set()\n",
    "    for word in wordList:\n",
    "        wordSet.add(lemm.lemmatize(word))\n",
    "    return list(wordSet)"
   ]
  },
  {
   "cell_type": "code",
   "execution_count": 8,
   "metadata": {
    "collapsed": true
   },
   "outputs": [],
   "source": [
    "from nltk.stem import PorterStemmer\n",
    "ps = PorterStemmer()\n",
    " \n",
    "def stemSet(wordList):\n",
    "    wordSet = set()\n",
    "    for word in wordList:\n",
    "        wordSet.add(ps.stem(word))\n",
    "    return list(wordSet)"
   ]
  },
  {
   "cell_type": "code",
   "execution_count": 9,
   "metadata": {},
   "outputs": [
    {
     "data": {
      "text/html": [
       "<div>\n",
       "<style>\n",
       "    .dataframe thead tr:only-child th {\n",
       "        text-align: right;\n",
       "    }\n",
       "\n",
       "    .dataframe thead th {\n",
       "        text-align: left;\n",
       "    }\n",
       "\n",
       "    .dataframe tbody tr th {\n",
       "        vertical-align: top;\n",
       "    }\n",
       "</style>\n",
       "<table border=\"1\" class=\"dataframe\">\n",
       "  <thead>\n",
       "    <tr style=\"text-align: right;\">\n",
       "      <th></th>\n",
       "      <th>text</th>\n",
       "      <th>label</th>\n",
       "      <th>puncCount</th>\n",
       "      <th>spamCount</th>\n",
       "      <th>caseRatio</th>\n",
       "      <th>lemWordSet</th>\n",
       "      <th>stemWordSet</th>\n",
       "    </tr>\n",
       "  </thead>\n",
       "  <tbody>\n",
       "    <tr>\n",
       "      <th>0</th>\n",
       "      <td>[go, jurong, point, crazy, available, bugis, n...</td>\n",
       "      <td>ham</td>\n",
       "      <td>0</td>\n",
       "      <td>0</td>\n",
       "      <td>0.037500</td>\n",
       "      <td>[amore, wat, point, available, got, bugis, la,...</td>\n",
       "      <td>[e, avail, wat, point, got, la, n, cine, amor,...</td>\n",
       "    </tr>\n",
       "    <tr>\n",
       "      <th>1</th>\n",
       "      <td>[ok, lar, joking, wif, u, oni]</td>\n",
       "      <td>ham</td>\n",
       "      <td>0</td>\n",
       "      <td>0</td>\n",
       "      <td>0.125000</td>\n",
       "      <td>[wif, ok, oni, lar, joking, u]</td>\n",
       "      <td>[wif, ok, joke, oni, lar, u]</td>\n",
       "    </tr>\n",
       "    <tr>\n",
       "      <th>2</th>\n",
       "      <td>[free, entry, 2, wkly, comp, win, fa, cup, fin...</td>\n",
       "      <td>spam</td>\n",
       "      <td>0</td>\n",
       "      <td>0</td>\n",
       "      <td>0.114943</td>\n",
       "      <td>[receive, 2005, c, 08452810075over18, final, r...</td>\n",
       "      <td>[entri, 2005, c, 08452810075over18, final, rat...</td>\n",
       "    </tr>\n",
       "    <tr>\n",
       "      <th>3</th>\n",
       "      <td>[u, dun, say, early, hor, u, c, already, say]</td>\n",
       "      <td>ham</td>\n",
       "      <td>0</td>\n",
       "      <td>0</td>\n",
       "      <td>0.064516</td>\n",
       "      <td>[already, dun, say, hor, c, u, early]</td>\n",
       "      <td>[earli, dun, say, hor, alreadi, c, u]</td>\n",
       "    </tr>\n",
       "    <tr>\n",
       "      <th>4</th>\n",
       "      <td>[nah, think, goes, usf, lives, around, though]</td>\n",
       "      <td>ham</td>\n",
       "      <td>0</td>\n",
       "      <td>0</td>\n",
       "      <td>0.044444</td>\n",
       "      <td>[around, think, usf, though, life, go, nah]</td>\n",
       "      <td>[around, think, usf, goe, though, live, nah]</td>\n",
       "    </tr>\n",
       "  </tbody>\n",
       "</table>\n",
       "</div>"
      ],
      "text/plain": [
       "                                                text label  puncCount  \\\n",
       "0  [go, jurong, point, crazy, available, bugis, n...   ham          0   \n",
       "1                     [ok, lar, joking, wif, u, oni]   ham          0   \n",
       "2  [free, entry, 2, wkly, comp, win, fa, cup, fin...  spam          0   \n",
       "3      [u, dun, say, early, hor, u, c, already, say]   ham          0   \n",
       "4     [nah, think, goes, usf, lives, around, though]   ham          0   \n",
       "\n",
       "   spamCount  caseRatio                                         lemWordSet  \\\n",
       "0          0   0.037500  [amore, wat, point, available, got, bugis, la,...   \n",
       "1          0   0.125000                     [wif, ok, oni, lar, joking, u]   \n",
       "2          0   0.114943  [receive, 2005, c, 08452810075over18, final, r...   \n",
       "3          0   0.064516              [already, dun, say, hor, c, u, early]   \n",
       "4          0   0.044444        [around, think, usf, though, life, go, nah]   \n",
       "\n",
       "                                         stemWordSet  \n",
       "0  [e, avail, wat, point, got, la, n, cine, amor,...  \n",
       "1                       [wif, ok, joke, oni, lar, u]  \n",
       "2  [entri, 2005, c, 08452810075over18, final, rat...  \n",
       "3              [earli, dun, say, hor, alreadi, c, u]  \n",
       "4       [around, think, usf, goe, though, live, nah]  "
      ]
     },
     "execution_count": 9,
     "metadata": {},
     "output_type": "execute_result"
    }
   ],
   "source": [
    "# Add column for number of nonstandard punctuations\n",
    "spamDf['puncCount'] = spamDf.apply(lambda row: freqOfNonstardardPunc(row['text']), axis = 1)\n",
    "\n",
    "# Add column for number of known spam words\n",
    "spamDf['spamCount'] = spamDf.apply(lambda row: spamCount(row['text'].lower()), axis = 1)\n",
    "\n",
    "# Add column for ratio of upper case to lower case words\n",
    "spamDf['caseRatio'] = spamDf.apply(lambda row: capRatio(row['text']), axis = 1)\n",
    "\n",
    "# let's remove all punctuations and stop words from the 'text' column\n",
    "\n",
    "# Remove all punctuation using regular expression\n",
    "charTokenizer = RegexpTokenizer(r'\\w+')\n",
    "\n",
    "# Find set of stop words \n",
    "stopWords = set(stopwords.words('english'))\n",
    "\n",
    "# Clean out text column and turn it to lowercase\n",
    "spamDf['text'] = spamDf.apply(lambda row: [word for word in charTokenizer.tokenize(row['text'].lower()) if word not in stopWords], axis=1)\n",
    "\n",
    "\n",
    "# Create column of lemmatized words\n",
    "spamDf['lemWordSet'] = spamDf.apply(lambda row: lemSet(row['text']), axis=1)\n",
    "\n",
    "#Create column of stemmed words\n",
    "spamDf['stemWordSet'] = spamDf.apply(lambda row: stemSet(row['text']), axis=1)\n",
    "spamDf.head()"
   ]
  }
 ],
 "metadata": {
  "kernelspec": {
   "display_name": "Python 3",
   "language": "python",
   "name": "python3"
  },
  "language_info": {
   "codemirror_mode": {
    "name": "ipython",
    "version": 3
   },
   "file_extension": ".py",
   "mimetype": "text/x-python",
   "name": "python",
   "nbconvert_exporter": "python",
   "pygments_lexer": "ipython3",
   "version": "3.6.3"
  }
 },
 "nbformat": 4,
 "nbformat_minor": 2
}
